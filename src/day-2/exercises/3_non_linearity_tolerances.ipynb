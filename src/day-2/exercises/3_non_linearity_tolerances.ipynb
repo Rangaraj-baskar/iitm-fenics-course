{
 "cells": [
  {
   "cell_type": "markdown",
   "metadata": {},
   "source": [
    "# Tolerances and convergence\n",
    "\n",
    "In numerical methods, solving non-linear problems poses unique challenges due to their intrinsic complexity. Solver design become crucial aspect to consider while tackling these problems, as they govern the accuracy and reliability of the obtained solutions. \n",
    "\n",
    "Understanding tolerance levels, which dictate the acceptable deviation between successive iterations, and convergence criteria, which indicate when a solution has reached a satisfactory result is of prime importance when handling non-linear problems.\n",
    "\n",
    "In this exercise, your task is to explore the impact of modifying three parameters: absolute tolerance, relative tolerance, and maximum iterations, on the computational cost and solution accuracy. By adjusting these parameters, you will gain insights into how they influence the numerical solution of the problem at hand."
   ]
  },
  {
   "cell_type": "code",
   "execution_count": null,
   "metadata": {},
   "outputs": [],
   "source": [
    "from dolfin import *\n",
    "import numpy\n",
    "\n",
    "mesh = IntervalMesh(40, 0, 1)\n",
    "V = FunctionSpace(mesh, 'Lagrange', 1)\n",
    "\n",
    "left_boundary = CompiledSubDomain(\"on_boundary && near(x[0],0)\")\n",
    "right_boundary = CompiledSubDomain(\"on_boundary && near(x[0],1)\")\n",
    "\n",
    "bc_0 = DirichletBC(V, Constant(0.0), left_boundary)\n",
    "bc_1 = DirichletBC(V, Constant(1.0), right_boundary)\n",
    "bcs = [bc_0, bc_1]\n",
    "\n",
    "m = 5\n",
    "\n",
    "\n",
    "def q(u):\n",
    "    return (1+u)**m\n",
    "\n",
    "# Define variational problem\n",
    "v = TestFunction(V)\n",
    "du = TrialFunction(V)\n",
    "u = Function(V)  # most recently computed solution\n",
    "F = inner(q(u)*nabla_grad(u), nabla_grad(v))*dx\n",
    "\n",
    "J = derivative(F, u, du)\n",
    "\n",
    "# Compute solution\n",
    "problem = NonlinearVariationalProblem(F, u, bcs, J)\n",
    "solver = NonlinearVariationalSolver(problem)\n",
    "\n",
    "prm = solver.parameters\n",
    "prm['newton_solver']['absolute_tolerance'] = 1E-5\n",
    "prm['newton_solver']['relative_tolerance'] = 1E-5\n",
    "prm['newton_solver']['maximum_iterations'] = 25\n",
    "\n",
    "solver.solve()\n",
    "\n",
    "# Find max error\n",
    "u_exact = Expression(\n",
    "    'pow((pow(2, m+1)-1)*x[0] + 1, 1.0/(m+1)) - 1', m=m, degree=1)\n",
    "u_e = interpolate(u_exact, V)\n",
    "diff = numpy.abs(u_e.vector()[:] - u.vector()[:]).max()\n",
    "print('Max error:{0:5.3e}'.format(diff))"
   ]
  }
 ],
 "metadata": {
  "language_info": {
   "name": "python"
  },
  "orig_nbformat": 4
 },
 "nbformat": 4,
 "nbformat_minor": 2
}
