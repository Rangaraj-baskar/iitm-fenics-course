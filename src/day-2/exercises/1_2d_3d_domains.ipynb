{
 "cells": [
  {
   "cell_type": "code",
   "execution_count": 122,
   "metadata": {},
   "outputs": [
    {
     "name": "stdout",
     "output_type": "stream",
     "text": [
      "Max error:1.559e-06\n"
     ]
    }
   ],
   "source": [
    "from dolfin import *\n",
    "import numpy\n",
    "\n",
    "mesh = IntervalMesh(40, 0, 1)\n",
    "V = FunctionSpace(mesh, 'Lagrange', 1)\n",
    "\n",
    "left_boundary = CompiledSubDomain(\"on_boundary && near(x[0],0)\")\n",
    "right_boundary = CompiledSubDomain(\"on_boundary && near(x[0],1)\")\n",
    "\n",
    "bc_0 = DirichletBC(V, Constant(0.0), left_boundary)\n",
    "bc_1 = DirichletBC(V, Constant(1.0), right_boundary)\n",
    "bcs = [bc_0, bc_1]\n",
    "\n",
    "m = 5\n",
    "\n",
    "\n",
    "def q(u):\n",
    "    return (1+u)**m\n",
    "\n",
    "# Define variational problem\n",
    "v = TestFunction(V)\n",
    "du = TrialFunction(V)\n",
    "u = Function(V)  # most recently computed solution\n",
    "F = inner(q(u)*nabla_grad(u), nabla_grad(v))*dx\n",
    "\n",
    "J = derivative(F, u, du)\n",
    "\n",
    "# Compute solution\n",
    "problem = NonlinearVariationalProblem(F, u, bcs, J)\n",
    "solver = NonlinearVariationalSolver(problem)\n",
    "\n",
    "prm = solver.parameters\n",
    "prm['newton_solver']['absolute_tolerance'] = 1E-5\n",
    "prm['newton_solver']['relative_tolerance'] = 1E-5\n",
    "prm['newton_solver']['maximum_iterations'] = 25\n",
    "\n",
    "solver.solve()\n",
    "\n",
    "# Find max error\n",
    "u_exact = Expression(\n",
    "    'pow((pow(2, m+1)-1)*x[0] + 1, 1.0/(m+1)) - 1', m=m, degree=1)\n",
    "u_e = interpolate(u_exact, V)\n",
    "diff = numpy.abs(u_e.vector()[:] - u.vector()[:]).max()\n",
    "print('Max error:{0:5.3e}'.format(diff))"
   ]
  },
  {
   "cell_type": "code",
   "execution_count": null,
   "metadata": {},
   "outputs": [],
   "source": []
  }
 ],
 "metadata": {
  "kernelspec": {
   "display_name": "Python 3",
   "language": "python",
   "name": "python3"
  },
  "language_info": {
   "codemirror_mode": {
    "name": "ipython",
    "version": 3
   },
   "file_extension": ".py",
   "mimetype": "text/x-python",
   "name": "python",
   "nbconvert_exporter": "python",
   "pygments_lexer": "ipython3",
   "version": "3.6.7"
  },
  "orig_nbformat": 4
 },
 "nbformat": 4,
 "nbformat_minor": 2
}
