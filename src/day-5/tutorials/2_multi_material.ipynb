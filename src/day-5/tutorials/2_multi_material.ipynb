{
 "cells": [
  {
   "cell_type": "code",
   "execution_count": 253,
   "metadata": {},
   "outputs": [],
   "source": [
    "from dolfin import *\n",
    "from matplotlib import pyplot as plt"
   ]
  },
  {
   "cell_type": "code",
   "execution_count": 254,
   "metadata": {},
   "outputs": [],
   "source": [
    "length, depth = 300, 300\n",
    "num_ele_along_depth = 10\n",
    "ele_size = depth/num_ele_along_depth\n",
    "mesh = RectangleMesh(Point(0, 0), Point(length, depth),\n",
    "                     int(length/ele_size), int(depth/ele_size))"
   ]
  },
  {
   "cell_type": "code",
   "execution_count": 260,
   "metadata": {},
   "outputs": [],
   "source": [
    "mat1_sub_domain = CompiledSubDomain(\"x[0]<=L/2\",L=length)\n",
    "mat2_sub_domain = CompiledSubDomain(\"x[0]>=L/2\",L=length)"
   ]
  },
  {
   "cell_type": "code",
   "execution_count": 261,
   "metadata": {},
   "outputs": [],
   "source": [
    "dim = mesh.topology().dim()\n",
    "mf = MeshFunction(\"size_t\",mesh,dim)"
   ]
  },
  {
   "cell_type": "code",
   "execution_count": 262,
   "metadata": {},
   "outputs": [],
   "source": [
    "mat1_sub_domain.mark(mf,1)\n",
    "mat2_sub_domain.mark(mf,2)"
   ]
  },
  {
   "cell_type": "code",
   "execution_count": 265,
   "metadata": {},
   "outputs": [
    {
     "data": {
      "text/plain": [
       "<matplotlib.collections.PolyCollection at 0x7f6711258dd8>"
      ]
     },
     "execution_count": 265,
     "metadata": {},
     "output_type": "execute_result"
    },
    {
     "data": {
      "image/png": "[encoded data removed]",
      "text/plain": [
       "<Figure size 432x288 with 1 Axes>"
      ]
     },
     "metadata": {
      "needs_background": "light"
     },
     "output_type": "display_data"
    }
   ],
   "source": [
    "plot(mf)"
   ]
  },
  {
   "cell_type": "markdown",
   "metadata": {},
   "source": [
    "## How to assign material properties to different subdomains?"
   ]
  },
  {
   "cell_type": "markdown",
   "metadata": {},
   "source": [
    "Assigning material properties to different domains is a common task in finite element simulations using FEniCS. FEniCS provides a flexible way to handle complex geometries and define material properties on different regions of the mesh. To achieve this, we can use a `MeshFunction` to label different subdomains and then use `Measures` to integrate over these labeled subdomains. "
   ]
  },
  {
   "cell_type": "markdown",
   "metadata": {},
   "source": [
    "Here's a step-by-step guide on how to do this:\n",
    "\n",
    "**Step 1: Install FEniCS**\n",
    "Make sure you have FEniCS installed on your system. You can follow the instructions on the FEniCS website (https://fenicsproject.org/download/) for installation guidelines.\n",
    "\n",
    "**Step 2: Import Required Libraries**\n",
    "Start by importing the necessary FEniCS modules:\n",
    "\n",
    "```python\n",
    "from dolfin import *\n",
    "```\n",
    "\n",
    "**Step 3: Create the Mesh**\n",
    "Generate or import the mesh that represents your geometry. For simplicity, let's assume you have already created the mesh and loaded it:\n",
    "\n",
    "```python\n",
    "# Replace 'mesh.xml' with the path to your mesh file\n",
    "mesh = Mesh(\"mesh.xml\")\n",
    "```\n",
    "\n",
    "**Step 4: Define Subdomains using `MeshFunction`**\n",
    "Create a `MeshFunction` to label the different subdomains of your mesh. Each label corresponds to a specific material region or domain.\n",
    "\n",
    "```python\n",
    "# Create a MeshFunction with dimension 0 (cell-wise function) and integer data\n",
    "subdomains = MeshFunction(\"size_t\", mesh, mesh.dim())\n",
    "\n",
    "# Define the subdomain regions by marking the cells with the corresponding material label\n",
    "# For example, label 1 represents material 1, label 2 represents material 2, and so on\n",
    "subdomain_1 = AutoSubDomain(lambda x, on_boundary: x[0] < 0.5 and x[1] < 0.5)\n",
    "subdomain_2 = AutoSubDomain(lambda x, on_boundary: x[0] >= 0.5 and x[1] < 0.5)\n",
    "\n",
    "# Mark subdomains on the MeshFunction using the defined subdomain regions\n",
    "subdomain_1.mark(subdomains, 1)\n",
    "subdomain_2.mark(subdomains, 2)\n",
    "```\n",
    "\n",
    "**Step 5: Define the Material Properties**\n",
    "Now, define the material properties for each domain. For this example, we'll consider two materials (material 1 and material 2):\n",
    "\n",
    "```python\n",
    "# Define material properties for each domain\n",
    "material_properties = {\n",
    "    1: {\"YoungsModulus\": 1.0, \"PoissonsRatio\": 0.3},\n",
    "    2: {\"YoungsModulus\": 2.0, \"PoissonsRatio\": 0.25}\n",
    "}\n",
    "```\n",
    "\n",
    "**Step 6: Define the Finite Element Function Space**\n",
    "Next, define the finite element function space. Choose the appropriate function space based on your problem, such as `VectorFunctionSpace` or `FunctionSpace`.\n",
    "\n",
    "```python\n",
    "# Define the function space based on the problem requirements\n",
    "V = VectorFunctionSpace(mesh, \"Lagrange\", 1)\n",
    "```\n",
    "\n",
    "**Step 7: Define the Test and Trial Functions**\n",
    "Define the test and trial functions in the chosen function space.\n",
    "\n",
    "```python\n",
    "# Define the test and trial functions\n",
    "u = TrialFunction(V)\n",
    "v = TestFunction(V)\n",
    "```\n",
    "\n",
    "**Step 8: Define the Material Property Expression**\n",
    "To assign material properties to each domain, we need to create an expression that evaluates the material properties based on the `subdomains` value at each point in the mesh.\n",
    "\n",
    "```python\n",
    "# Define the material property expression based on subdomains\n",
    "class MaterialProperties(Expression):\n",
    "    def __init__(self, subdomains, properties, **kwargs):\n",
    "        self.subdomains = subdomains\n",
    "        self.properties = properties\n",
    "        super().__init__(**kwargs)\n",
    "\n",
    "    def eval_cell(self, values, x, cell):\n",
    "        cell_id = cell.index()\n",
    "        subdomain_id = self.subdomains[cell_id]\n",
    "        properties = self.properties.get(subdomain_id, self.properties[1])\n",
    "        values[\"E\"] = properties[\"YoungsModulus\"]\n",
    "        values[\"nu\"] = properties[\"PoissonsRatio\"]\n",
    "\n",
    "# Initialize the material property expression with the subdomains and material properties\n",
    "material_expr = MaterialProperties(subdomains, material_properties, degree=0)\n",
    "\n",
    "# Split the expression into its components for FEniCS to recognize it as a vector-valued expression\n",
    "E, nu = split(material_expr)\n",
    "```\n",
    "\n",
    "**Step 9: Define the Strain and Stress Formulations**\n",
    "Define the strain and stress formulations based on the material properties. You can use standard equations like Hooke's law to define these expressions.\n",
    "\n",
    "```python\n",
    "# Define the strain and stress formulations\n",
    "I = Identity(V.cell().d)  # Identity tensor\n",
    "strain = sym(grad(u))\n",
    "stress = 2 * E * nu / (1 - nu) * strain + E / (1 + nu) * tr(strain) * I\n",
    "```\n",
    "\n",
    "**Step 10: Define the Variational Problem**\n",
    "Define the variational problem by incorporating the strain and stress expressions.\n",
    "\n",
    "```python\n",
    "# Define the variational problem\n",
    "a = inner(stress, grad(v)) * dx\n",
    "L = Constant((0.0, 0.0)) * v * dx\n",
    "```\n",
    "\n",
    "**Step 11: Solve the Problem**\n",
    "Finally, solve the variational problem to obtain the displacement field `u`.\n",
    "\n",
    "```python\n",
    "# Create the solution Function to store the results\n",
    "u_sol = Function(V)\n",
    "\n",
    "# Solve the variational problem\n",
    "solve(a == L, u_sol)\n",
    "```\n",
    "\n",
    "That's it! You have now assigned material properties to different domains using `MeshFunction` and `Measures` in FEniCS. This approach allows you to perform finite element simulations on complex geometries with varying material properties efficiently."
   ]
  }
 ],
 "metadata": {
  "kernelspec": {
   "display_name": "Python 3",
   "language": "python",
   "name": "python3"
  },
  "language_info": {
   "codemirror_mode": {
    "name": "ipython",
    "version": 3
   },
   "file_extension": ".py",
   "mimetype": "text/x-python",
   "name": "python",
   "nbconvert_exporter": "python",
   "pygments_lexer": "ipython3",
   "version": "3.6.7"
  },
  "orig_nbformat": 4
 },
 "nbformat": 4,
 "nbformat_minor": 2
}
