{
 "cells": [
  {
   "cell_type": "markdown",
   "metadata": {},
   "source": [
    "# Comparing linear elastic to hyper-elastic response\n",
    "In this exercise you have to compare the load-displacement response of linear elastic and hyperelastic models under the same loading condition."
   ]
  },
  {
   "cell_type": "code",
   "execution_count": 255,
   "metadata": {},
   "outputs": [
    {
     "name": "stdout",
     "output_type": "stream",
     "text": [
      "        Calling FFC just-in-time (JIT) compiler, this may take some time.\n"
     ]
    },
    {
     "name": "stdout",
     "output_type": "stream",
     "text": [
      "        Calling FFC just-in-time (JIT) compiler, this may take some time.\n"
     ]
    }
   ],
   "source": [
    "from dolfin import *\n",
    "\n",
    "def get_reaction_force(mesh):\n",
    "    mf = MeshFunction(\"size_t\",mesh,1)\n",
    "    mf.set_all(0)\n",
    "    clamped_boundary.mark(mf,1)\n",
    "    ds = Measure(\"ds\",subdomain_data=mf)\n",
    "    # Define the Neumann boundary condition for the traction vector\n",
    "    n=FacetNormal(mesh)\n",
    "    traction = dot(sigma(u), n)\n",
    "    # Integrate to get the traction vector\n",
    "    reaction = assemble(traction[1] * ds(1))\n",
    "    return reaction\n",
    "\n",
    "length, depth = 3000, 300\n",
    "num_ele_along_depth=10\n",
    "ele_size = depth/num_ele_along_depth\n",
    "mesh = RectangleMesh(Point(0, 0), Point(length, depth),\n",
    "                    int(length/ele_size), int(depth/ele_size))\n",
    "U = VectorFunctionSpace(mesh, 'CG', 2)\n",
    "dim = mesh.topology().dim()\n",
    "fixed = Expression((\"0.0\", \"0.0\"), degree=1)\n",
    "load = Expression((\"-disp_step*t\"), disp_step=100, t=1, degree=1)\n",
    "\n",
    "bcl = DirichletBC(U, fixed, clamped_boundary)\n",
    "bcr = DirichletBC(U.sub(1), load, load_boundary)\n",
    "\n",
    "bc = [bcl,bcr]\n",
    "\n",
    "E, nu = 1, 0.45\n",
    "lmbda = (E * nu) / ((1 + nu) * (1 - 2 * nu))\n",
    "mu = E / (2 * (1 + nu))\n",
    "\n",
    "\n",
    "def epsilon(u):\n",
    "    return 0.5*(grad(u) + grad(u).T)\n",
    "\n",
    "\n",
    "def sigma(u):\n",
    "    return lmbda*tr(epsilon(u))*Identity(dim) + 2*mu*epsilon(u)\n",
    "\n",
    "\n",
    "# Define variational problem\n",
    "u, v = TrialFunction(U), TestFunction(U)\n",
    "f = Constant((0, 0))\n",
    "a = inner(sigma(u), epsilon(v))*dx\n",
    "L = dot(f, v)*dx\n",
    "\n",
    "u = Function(U)\n",
    "problem = LinearVariationalProblem(a, L, u, bc)\n",
    "solver = LinearVariationalSolver(problem)\n",
    "\n",
    "elastic_reaction_force = []\n",
    "elastic_displacement = []\n",
    "for t in range(0,30):\n",
    "    load.t = t\n",
    "    solver.solve()\n",
    "    elastic_displacement.append(load.t*100)\n",
    "    elastic_reaction_force.append(get_reaction_force(mesh))"
   ]
  },
  {
   "cell_type": "code",
   "execution_count": 256,
   "metadata": {},
   "outputs": [
    {
     "data": {
      "text/plain": [
       "[<matplotlib.lines.Line2D at 0x7ff385a6e3c8>]"
      ]
     },
     "execution_count": 256,
     "metadata": {},
     "output_type": "execute_result"
    },
    {
     "data": {
      "image/png": "[encoded data removed]",
      "text/plain": [
       "<Figure size 576x576 with 1 Axes>"
      ]
     },
     "metadata": {
      "needs_background": "light"
     },
     "output_type": "display_data"
    }
   ],
   "source": [
    "plt.figure(figsize=(8, 8))\n",
    "plt.plot(elastic_displacement,elastic_reaction_force)"
   ]
  },
  {
   "cell_type": "code",
   "execution_count": null,
   "metadata": {},
   "outputs": [],
   "source": []
  },
  {
   "cell_type": "markdown",
   "metadata": {},
   "source": [
    "# Pseudo-time analysis\n",
    "\n",
    "Hyperelastic materials experience substantial deformations, resulting in highly nonlinear responses. Pseudo time analysis facilitates the simulation of these significant deformations while ensuring numerical accuracy throughout the process. It addresses the inherent nonlinearity of the stress-strain relationship in hyperelastic materials."
   ]
  },
  {
   "cell_type": "code",
   "execution_count": 233,
   "metadata": {},
   "outputs": [],
   "source": [
    "def sigma(u):\n",
    "    I = Identity(u.geometric_dimension())\n",
    "    F = variable(grad(u) + I)\n",
    "    J = det(F)\n",
    "    C = F.T * F\n",
    "    I1 = tr(C)\n",
    "    energy = (mu / 2) * (I1 - 2) - mu * ln(J) + (lmbda / 2) * ln(J)**2\n",
    "    return 2 * diff(energy, F)\n",
    "\n",
    "def get_reaction_force(mesh):\n",
    "    mf = MeshFunction(\"size_t\",mesh,1)\n",
    "    mf.set_all(0)\n",
    "    clamped_boundary.mark(mf,1)\n",
    "    ds = Measure(\"ds\",subdomain_data=mf)\n",
    "    # Define the Neumann boundary condition for the traction vector\n",
    "    n=FacetNormal(mesh)\n",
    "    traction = dot(sigma(u), n)\n",
    "    # Integrate to get the traction vector\n",
    "    reaction = assemble(traction[1] * ds(1))\n",
    "    return reaction"
   ]
  },
  {
   "cell_type": "code",
   "execution_count": 234,
   "metadata": {},
   "outputs": [],
   "source": [
    "from dolfin import *\n",
    "from matplotlib import pyplot as plt\n",
    "# Create mesh and define function space\n",
    "\n",
    "length, depth = 3000, 300\n",
    "num_ele_along_depth = 10\n",
    "ele_size = depth/num_ele_along_depth\n",
    "mesh = RectangleMesh(Point(0, 0), Point(length, depth),\n",
    "                     int(length/ele_size), int(depth/ele_size))\n",
    "V = VectorFunctionSpace(mesh, \"Lagrange\", 1)\n",
    "\n",
    "# Mark boundary subdomians\n",
    "clamped_boundary = CompiledSubDomain(\"near(x[0],0)\")\n",
    "load_boundary = CompiledSubDomain(\"near(x[0],3000)\")\n",
    "\n",
    "# Define Dirichlet boundary (x = 0 or x = 1)\n",
    "fixed = Expression((\"0.0\", \"0.0\"), degree=1)\n",
    "load = Expression((\"-disp_step*t\"), disp_step=100, t=1, degree=1)\n",
    "\n",
    "bcl = DirichletBC(V, fixed, clamped_boundary)\n",
    "bcr = DirichletBC(V.sub(1), load, load_boundary)\n",
    "bcs = [bcl, bcr]\n",
    "\n",
    "# Define functions\n",
    "du = TrialFunction(V)            # Incremental displacement\n",
    "v = TestFunction(V)             # Test function\n",
    "u = Function(V)                 # Displacement from previous iteration\n",
    "B = Constant((0.0, 0.0))  # Body force per unit volume\n",
    "T = Constant((0.0, 0.0))  # Traction force on the boundary\n",
    "\n",
    "# Kinematics\n",
    "d = u.geometric_dimension()\n",
    "I = Identity(d)             # Identity tensor\n",
    "F = I + grad(u)             # Deformation gradient\n",
    "C = F.T*F                   # Right Cauchy-Green tensor\n",
    "\n",
    "# Invariants of deformation tensors\n",
    "Ic = tr(C)\n",
    "J = det(F)\n",
    "\n",
    "# Elasticity parameters\n",
    "E, nu = 1, 0.45\n",
    "mu, lmbda = Constant(E/(2*(1 + nu))), Constant(E*nu/((1 + nu)*(1 - 2*nu)))\n",
    "\n",
    "# Stored strain energy density (compressible neo-Hookean model)\n",
    "psi = (mu/2)*(Ic - 3) - mu*ln(J) + (lmbda/2)*(ln(J))**2\n",
    "\n",
    "# Total potential energy\n",
    "Pi = psi*dx - dot(B, u)*dx - dot(T, u)*ds\n",
    "\n",
    "# Compute first variation of Pi (directional derivative about u in the direction of v)\n",
    "F = derivative(Pi, u, v)\n",
    "\n",
    "# Compute Jacobian of F\n",
    "J = derivative(F, u, du)\n",
    "\n",
    "# Compute solution\n",
    "problem = NonlinearVariationalProblem(F, u, bcs, J)\n",
    "solver = NonlinearVariationalSolver(problem)\n",
    "\n",
    "prm = solver.parameters\n",
    "prm['newton_solver']['absolute_tolerance'] = 1E-7\n",
    "prm['newton_solver']['relative_tolerance'] = 1E-7\n",
    "prm['newton_solver']['maximum_iterations'] = 1000\n",
    "prm['newton_solver']['linear_solver'] = 'gmres'\n",
    "prm['newton_solver']['preconditioner'] = 'hypre_euclid'\n",
    "prm['newton_solver']['krylov_solver']['absolute_tolerance'] = 1E-7\n",
    "prm['newton_solver']['krylov_solver']['relative_tolerance'] = 1E-7\n",
    "prm['newton_solver']['krylov_solver']['maximum_iterations'] = 1000\n",
    "\n",
    "reaction_force = []\n",
    "displacement = []\n",
    "for t in range(0,30):\n",
    "    load.t = t\n",
    "    solver.solve()\n",
    "    displacement.append(load.t*100)\n",
    "    reaction_force.append(get_reaction_force(mesh))"
   ]
  },
  {
   "cell_type": "code",
   "execution_count": 237,
   "metadata": {},
   "outputs": [
    {
     "data": {
      "text/plain": [
       "[<matplotlib.lines.Line2D at 0x7ff387a1df28>]"
      ]
     },
     "execution_count": 237,
     "metadata": {},
     "output_type": "execute_result"
    },
    {
     "data": {
      "image/png": "[encoded data removed]",
      "text/plain": [
       "<Figure size 576x576 with 1 Axes>"
      ]
     },
     "metadata": {
      "needs_background": "light"
     },
     "output_type": "display_data"
    }
   ],
   "source": [
    "plt.figure(figsize=(8, 8))\n",
    "plt.plot(displacement,reaction_force)\n",
    "plt.plot(elastic_displacement,elastic_reaction_force)"
   ]
  },
  {
   "cell_type": "code",
   "execution_count": null,
   "metadata": {},
   "outputs": [],
   "source": []
  }
 ],
 "metadata": {
  "kernelspec": {
   "display_name": "Python 3",
   "language": "python",
   "name": "python3"
  },
  "language_info": {
   "codemirror_mode": {
    "name": "ipython",
    "version": 3
   },
   "file_extension": ".py",
   "mimetype": "text/x-python",
   "name": "python",
   "nbconvert_exporter": "python",
   "pygments_lexer": "ipython3",
   "version": "3.6.7"
  },
  "orig_nbformat": 4
 },
 "nbformat": 4,
 "nbformat_minor": 2
}
