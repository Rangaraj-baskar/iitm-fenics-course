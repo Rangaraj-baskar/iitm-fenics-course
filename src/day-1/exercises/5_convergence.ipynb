{
 "cells": [
  {
   "cell_type": "markdown",
   "metadata": {},
   "source": [
    "# Convergence"
   ]
  },
  {
   "cell_type": "markdown",
   "metadata": {},
   "source": [
    "Please visit the official documentation link provided to learn how to modify the mesh. After familiarizing yourself with the process, return here to implement the changes and visualize the updated results."
   ]
  },
  {
   "cell_type": "code",
   "execution_count": null,
   "metadata": {},
   "outputs": [],
   "source": [
    "from dolfin import *\n",
    "mesh = IntervalMesh(30, 0, 1)\n",
    "\n",
    "U = FunctionSpace(mesh, \"CG\", 1)\n",
    "\n",
    "u_D = Constant(0.0)\n",
    "boundary = CompiledSubDomain(\"on_boundary\")\n",
    "bc = DirichletBC(U, u_D, boundary)\n",
    "u, v = TrialFunction(U), TestFunction(U)\n",
    "\n",
    "a = inner(grad(u), grad(v)) * dx\n",
    "f_expr = Expression(\"pi*pi*sin(pi*x[0])\", pi=np.pi, degree=2)\n",
    "L = f_expr * v * dx\n",
    "\n",
    "u_sol = Function(U, name = \"field\")\n",
    "solve(a == L, u_sol, bc)\n",
    "\n",
    "with XDMFFile(\"output/result.xdmf\") as outfile:\n",
    "    outfile.write(u_sol)"
   ]
  }
 ],
 "metadata": {
  "language_info": {
   "name": "python"
  },
  "orig_nbformat": 4
 },
 "nbformat": 4,
 "nbformat_minor": 2
}
