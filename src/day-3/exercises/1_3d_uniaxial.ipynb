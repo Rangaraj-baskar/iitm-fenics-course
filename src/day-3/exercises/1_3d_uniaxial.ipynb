{
 "cells": [
  {
   "cell_type": "markdown",
   "metadata": {},
   "source": [
    "# 3D Uniaxial bar\n",
    "\n",
    "The objective of this exercise is to implement a 3D finite element analysis (FEA) program using FEniCS. You are required to create a FEniCS code that performs the analysis, solve for the displacements and stresses in the bar, and visualize the results.\n"
   ]
  },
  {
   "cell_type": "markdown",
   "metadata": {},
   "source": [
    "Materials:\n",
    "- Steel material properties:\n",
    "  - Young's Modulus (E): 200 GPa\n",
    "  - Poisson's Ratio (ν): 0.3\n",
    "  - Density (ρ): 7850 kg/m^3\n",
    "\n",
    "Bar Dimensions:\n",
    "- Length (Lx): 1 meter\n",
    "- Ly and Lz: 0.02 meters (20 mm)\n",
    "\n",
    "Boundary Conditions:\n",
    "- One end of the bar is fixed (fixed boundary condition).\n",
    "- The other end is subjected to a uniaxial tensile load:\n",
    "  - Load (F): 10,000 N\n",
    "\n",
    "Mesh:\n",
    "- Use a simple 3D mesh for the bar, consisting of tetrahedral elements."
   ]
  },
  {
   "cell_type": "markdown",
   "metadata": {},
   "source": [
    "\n",
    "---\n",
    "Steps:\n",
    "\n",
    "1. Import FEniCS and Necessary Libraries\n",
    "2. Define the Geometry and Mesh\n",
    "3. Define the Material Properties\n",
    "4. Define the Boundary Conditions\n",
    "5. Define the Finite Element Function Space\n",
    "6. Formulate the Governing Equations.\n",
    "7.  Solve the System\n",
    "8.  Calculate Stress\n",
    "9.  Post-Processing and Visualization:"
   ]
  },
  {
   "cell_type": "markdown",
   "metadata": {},
   "source": [
    "---"
   ]
  },
  {
   "cell_type": "markdown",
   "metadata": {},
   "source": []
  }
 ],
 "metadata": {
  "language_info": {
   "name": "python"
  },
  "orig_nbformat": 4
 },
 "nbformat": 4,
 "nbformat_minor": 2
}
