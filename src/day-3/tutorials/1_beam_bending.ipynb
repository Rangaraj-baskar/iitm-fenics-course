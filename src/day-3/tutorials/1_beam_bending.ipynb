{
 "cells": [
  {
   "cell_type": "markdown",
   "metadata": {},
   "source": [
    "# Linear Elasticity\n"
   ]
  },
  {
   "cell_type": "markdown",
   "metadata": {},
   "source": [
    "Linear elasticity is a fundamental theory in mechanics that describes the deformation of solid materials under the influence of external forces. It assumes that the deformation is small and that the relationship between stress and strain is linear. The theory is widely used in various engineering applications, such as structural analysis and material design. FEniCS provides a flexible and efficient platform for implementing finite element methods, making it an excellent choice for solving problems in linear elasticity.\n"
   ]
  },
  {
   "cell_type": "code",
   "execution_count": 167,
   "metadata": {},
   "outputs": [],
   "source": [
    "from dolfin import *\n",
    "from matplotlib import pyplot as plt"
   ]
  },
  {
   "cell_type": "code",
   "execution_count": 168,
   "metadata": {},
   "outputs": [],
   "source": [
    "length, depth = 3, .300\n",
    "num_ele_along_depth = 10\n",
    "ele_size = depth/num_ele_along_depth\n",
    "mesh = RectangleMesh(Point(0, 0), Point(length, depth),\n",
    "                     int(length/ele_size), int(depth/ele_size))"
   ]
  },
  {
   "cell_type": "markdown",
   "metadata": {},
   "source": [
    "## Different spaces in FEniCS\n",
    "\n",
    "In FEniCS, a \"space\" is a mathematical construct that contains functions used to approximate the quantities of interest (e.g. displacement, strain, stress, force etc). Different types of function spaces are used depending on the nature of the problem and the type of field variable sought.\n",
    "\n",
    "| Quantity             | Type                | Function Space      | Dimension |\n",
    "| -------------------- | ------------------- | ------------------- | --------- |\n",
    "| Displacement (**u**) | Vector              | VectorFunctionSpace | 2D/3D     |\n",
    "| Stress               | Second-order tensor | TensorFunctionSpace | 2D/3D     |\n",
    "| Strain               | Second-order tensor | TensorFunctionSpace | 2D/3D     |\n",
    "| Von Mises Stress     | Scalar              | FunctionSpace       | 1D        |\n",
    "| Body Force           | Vector              | VectorFunctionSpace | 2D/3D     |\n",
    "| Surface Force        | Vector              | VectorFunctionSpace | 2D/3D     |\n",
    "| Surface Traction     | Second-order tensor | TensorFunctionSpace | 2D/3D     |\n",
    "\n",
    "Note:\n",
    "\n",
    "- Von Mises stress is a scalar quantity and is represented using a scalar function space in FEniCS.\n",
    "- The \"Dimension\" column still indicates the dimensionality of the problem (2D or 3D).\n",
    "- The \"Type\" column specifies the mathematical nature of the quantity (e.g., vector, tensor, scalar).\n",
    "- The \"Function Space\" column indicates the corresponding function space to represent the quantity in FEniCS.\n"
   ]
  },
  {
   "cell_type": "code",
   "execution_count": 169,
   "metadata": {},
   "outputs": [],
   "source": [
    "V = FunctionSpace(mesh, 'CG', 1)\n",
    "U = VectorFunctionSpace(mesh, 'CG', 1)\n",
    "T0 = TensorFunctionSpace(mesh, 'DG', 0)"
   ]
  },
  {
   "cell_type": "code",
   "execution_count": 170,
   "metadata": {},
   "outputs": [],
   "source": [
    "dim = mesh.topology().dim()"
   ]
  },
  {
   "cell_type": "code",
   "execution_count": 171,
   "metadata": {},
   "outputs": [],
   "source": [
    "clamped_boundary = CompiledSubDomain(\"near(x[0],0)\")\n",
    "bc = DirichletBC(U, Constant((0,)*dim), clamped_boundary)"
   ]
  },
  {
   "cell_type": "code",
   "execution_count": 179,
   "metadata": {},
   "outputs": [],
   "source": [
    "E, nu = 2e11, 0.3\n",
    "rho, g = 7800, 9.81"
   ]
  },
  {
   "cell_type": "markdown",
   "metadata": {},
   "source": [
    "$$\n",
    "\\begin{align}\n",
    "\\sigma &= \\lambda\\,\\hbox{tr}\\,(\\varepsilon) I + 2\\mu\\varepsilon,\\\\\n",
    "\\varepsilon &= \\frac{1}{2}\\left(\\nabla u + (\\nabla u)^{\\top}\\right),\n",
    "\\end{align}\n",
    "$$\n"
   ]
  },
  {
   "cell_type": "code",
   "execution_count": 173,
   "metadata": {},
   "outputs": [],
   "source": [
    "lmbda = (E * nu) / ((1 + nu) * (1 - 2 * nu))\n",
    "mu = E / (2 * (1 + nu))\n",
    "\n",
    "\n",
    "def epsilon(u):\n",
    "    return 0.5*(grad(u) + grad(u).T)\n",
    "\n",
    "\n",
    "def sigma(u):\n",
    "    return lmbda*tr(epsilon(u))*Identity(dim) + 2*mu*epsilon(u)"
   ]
  },
  {
   "cell_type": "code",
   "execution_count": 174,
   "metadata": {},
   "outputs": [],
   "source": [
    "# Define variational problem\n",
    "u, v = TrialFunction(U), TestFunction(U)"
   ]
  },
  {
   "cell_type": "code",
   "execution_count": 175,
   "metadata": {},
   "outputs": [],
   "source": [
    "f = Constant((0, -rho*g))"
   ]
  },
  {
   "cell_type": "code",
   "execution_count": 176,
   "metadata": {},
   "outputs": [
    {
     "name": "stdout",
     "output_type": "stream",
     "text": [
      "Calling FFC just-in-time (JIT) compiler, this may take some time.\n"
     ]
    }
   ],
   "source": [
    "a = inner(sigma(u), epsilon(v))*dx\n",
    "L = dot(f, v)*dx\n",
    "\n",
    "# Compute solution\n",
    "u = Function(U)\n",
    "solve(a == L, u, bc)"
   ]
  },
  {
   "cell_type": "code",
   "execution_count": 177,
   "metadata": {},
   "outputs": [
    {
     "data": {
      "text/plain": [
       "<matplotlib.collections.PolyCollection at 0x7fd27b971b38>"
      ]
     },
     "execution_count": 177,
     "metadata": {},
     "output_type": "execute_result"
    },
    {
     "data": {
      "image/png": "[encoded data removed]",
      "text/plain": [
       "<Figure size 1296x1152 with 1 Axes>"
      ]
     },
     "metadata": {
      "needs_background": "light"
     },
     "output_type": "display_data"
    }
   ],
   "source": [
    "plt.figure(figsize=(18, 16))\n",
    "# Plot solution\n",
    "scale_factor = 1000\n",
    "plot(u*scale_factor, title='Displacement', mode='displacement')"
   ]
  },
  {
   "cell_type": "code",
   "execution_count": 178,
   "metadata": {},
   "outputs": [
    {
     "data": {
      "text/plain": [
       "-5.0123718970495614e-05"
      ]
     },
     "execution_count": 178,
     "metadata": {},
     "output_type": "execute_result"
    }
   ],
   "source": [
    "u.vector().min()"
   ]
  },
  {
   "cell_type": "code",
   "execution_count": 162,
   "metadata": {},
   "outputs": [
    {
     "data": {
      "text/plain": [
       "<matplotlib.tri.tricontour.TriContourSet at 0x7fd27f5f2438>"
      ]
     },
     "execution_count": 162,
     "metadata": {},
     "output_type": "execute_result"
    },
    {
     "data": {
      "image/png": "[encoded data removed]",
      "text/plain": [
       "<Figure size 1296x1152 with 1 Axes>"
      ]
     },
     "metadata": {
      "needs_background": "light"
     },
     "output_type": "display_data"
    }
   ],
   "source": [
    "plt.figure(figsize=(18, 16))\n",
    "# Plot stress\n",
    "s = sigma(u) - (1./3)*tr(sigma(u))*Identity(dim)  # deviatoric stress\n",
    "von_Mises = sqrt(3./2*inner(s, s))\n",
    "von_Mises = project(von_Mises, V)\n",
    "plot(von_Mises, title='Von Mises stress')"
   ]
  },
  {
   "cell_type": "code",
   "execution_count": 163,
   "metadata": {},
   "outputs": [
    {
     "name": "stdout",
     "output_type": "stream",
     "text": [
      "min/max u: -2.4213610711295385e-10 0.0004564935128009332\n"
     ]
    },
    {
     "data": {
      "image/png": "[encoded data removed]",
      "text/plain": [
       "<Figure size 1296x1152 with 1 Axes>"
      ]
     },
     "metadata": {
      "needs_background": "light"
     },
     "output_type": "display_data"
    }
   ],
   "source": [
    "plt.figure(figsize=(18, 16))\n",
    "# Compute magnitude of displacement\n",
    "u_magnitude = sqrt(dot(u, u))\n",
    "u_magnitude = project(u_magnitude, V)\n",
    "plot(u_magnitude, 'Displacement magnitude')\n",
    "print('min/max u:',\n",
    "      u_magnitude.vector().vec().array.min(),\n",
    "      u_magnitude.vector().vec().array.max())"
   ]
  },
  {
   "cell_type": "code",
   "execution_count": 164,
   "metadata": {},
   "outputs": [
    {
     "data": {
      "text/plain": [
       "<matplotlib.tri.tricontour.TriContourSet at 0x7fd287faf748>"
      ]
     },
     "execution_count": 164,
     "metadata": {},
     "output_type": "execute_result"
    },
    {
     "data": {
      "image/png": "[encoded data removed]",
      "text/plain": [
       "<Figure size 1296x1152 with 1 Axes>"
      ]
     },
     "metadata": {
      "needs_background": "light"
     },
     "output_type": "display_data"
    }
   ],
   "source": [
    "stress = project(sigma(u),T0)\n",
    "plt.figure(figsize=(18, 16))\n",
    "plot(stress[0,0], title='$\\sigma_{xx}$')"
   ]
  },
  {
   "cell_type": "code",
   "execution_count": 165,
   "metadata": {},
   "outputs": [
    {
     "data": {
      "text/plain": [
       "<matplotlib.tri.tricontour.TriContourSet at 0x7fd27bf14400>"
      ]
     },
     "execution_count": 165,
     "metadata": {},
     "output_type": "execute_result"
    },
    {
     "data": {
      "image/png": "[encoded data removed]",
      "text/plain": [
       "<Figure size 1296x1152 with 1 Axes>"
      ]
     },
     "metadata": {
      "needs_background": "light"
     },
     "output_type": "display_data"
    }
   ],
   "source": [
    "plt.figure(figsize=(18, 16))\n",
    "plot(stress[0,1], title='$\\sigma_{xy}$')"
   ]
  },
  {
   "cell_type": "code",
   "execution_count": 166,
   "metadata": {},
   "outputs": [
    {
     "data": {
      "text/plain": [
       "<matplotlib.tri.tricontour.TriContourSet at 0x7fd27bc15be0>"
      ]
     },
     "execution_count": 166,
     "metadata": {},
     "output_type": "execute_result"
    },
    {
     "data": {
      "image/png": "[encoded data removed]",
      "text/plain": [
       "<Figure size 1296x1152 with 1 Axes>"
      ]
     },
     "metadata": {
      "needs_background": "light"
     },
     "output_type": "display_data"
    }
   ],
   "source": [
    "plt.figure(figsize=(18, 16))\n",
    "plot(stress[1,1], title='$\\sigma_{yy}$')"
   ]
  },
  {
   "cell_type": "code",
   "execution_count": null,
   "metadata": {},
   "outputs": [],
   "source": []
  },
  {
   "cell_type": "code",
   "execution_count": null,
   "metadata": {},
   "outputs": [],
   "source": []
  },
  {
   "cell_type": "code",
   "execution_count": null,
   "metadata": {},
   "outputs": [],
   "source": []
  }
 ],
 "metadata": {
  "kernelspec": {
   "display_name": "Python 3",
   "language": "python",
   "name": "python3"
  },
  "language_info": {
   "codemirror_mode": {
    "name": "ipython",
    "version": 3
   },
   "file_extension": ".py",
   "mimetype": "text/x-python",
   "name": "python",
   "nbconvert_exporter": "python",
   "pygments_lexer": "ipython3",
   "version": "3.6.7"
  },
  "orig_nbformat": 4
 },
 "nbformat": 4,
 "nbformat_minor": 2
}
