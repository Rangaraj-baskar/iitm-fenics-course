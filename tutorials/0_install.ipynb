{
 "cells": [
  {
   "cell_type": "markdown",
   "metadata": {},
   "source": [
    "## Prerequisites\n",
    "\n",
    "To follow along with the examples you need to install docker on your system. You need Windows 10/11 Education or Professional for this to work. This does not work on Windows 10/11 Home.\n",
    "\n",
    "* [Docker](https://www.docker.com/products/docker-desktop)\n",
    "* [Paraview](https://www.paraview.org/download/)\n",
    "* [CMDER](https://cmder.net/) (Only for Windows)\n",
    "\n",
    "After installation open `cmder` and then go-to Settings(Win+Alt+P)➡import and choose the `cmlab.xml` provided in the repository.\n",
    "\n",
    "## Install FEniCS\n",
    "\n",
    "Once the docker system in installed and running open CMDER/terminal and run:\n",
    "\n",
    "```\n",
    "docker pull iitrabhi/fenics_notebook\n",
    "```\n",
    "\n",
    "## Running\n",
    "\n",
    "To start the notebook server use:\n",
    "\n",
    "```\n",
    "docker run -p 8888:8888 -v host_system_path:/root/ -w /root/ iitrabhi/fenics_notebook\n",
    "```\n",
    "\n",
    "Note: you should replace the variable `host_system_path` with the path of the folder that contains your code. e.g. If  `D:\\Codes` contains your code then to start the command line interface you have to run:\n",
    "\n",
    "```\n",
    "docker run -p 8888:8888 -v D:\\Codes:/root/ -w /root/ iitrabhi/fenics_notebook\n",
    "```\n",
    "\n",
    "## If you have Windows home\n",
    "\n",
    "https://fem-on-colab.github.io/packages.html"
   ]
  },
  {
   "cell_type": "markdown",
   "metadata": {},
   "source": []
  }
 ],
 "metadata": {
  "language_info": {
   "name": "python"
  },
  "orig_nbformat": 4
 },
 "nbformat": 4,
 "nbformat_minor": 2
}
